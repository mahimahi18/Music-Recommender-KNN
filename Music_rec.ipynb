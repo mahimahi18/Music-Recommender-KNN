{
 "cells": [
  {
   "cell_type": "code",
   "execution_count": 32,
   "metadata": {},
   "outputs": [],
   "source": [
    "import pandas as pd \n",
    "from sklearn.model_selection import train_test_split"
   ]
  },
  {
   "cell_type": "code",
   "execution_count": 12,
   "metadata": {},
   "outputs": [
    {
     "name": "stdout",
     "output_type": "stream",
     "text": [
      "                                    user_id             song_id  listen_count  \\\n",
      "0  b80344d063b5ccb3212f76538f3d9e43d87dca9e  SOAKIMP12A8C130995             1   \n",
      "1  b80344d063b5ccb3212f76538f3d9e43d87dca9e  SOBBMDR12A8C13253B             2   \n",
      "2  b80344d063b5ccb3212f76538f3d9e43d87dca9e  SOBXHDL12A81C204C0             1   \n",
      "3  b80344d063b5ccb3212f76538f3d9e43d87dca9e  SOBYHAJ12A6701BF1D             1   \n",
      "4  b80344d063b5ccb3212f76538f3d9e43d87dca9e  SODACBL12A8C13C273             1   \n",
      "\n",
      "             title                        release    artist_name  year  \n",
      "0         The Cove             Thicker Than Water   Jack Johnson     0  \n",
      "1  Entre Dos Aguas            Flamenco Para Niños  Paco De Lucia  1976  \n",
      "2         Stronger                     Graduation     Kanye West  2007  \n",
      "3   Constellations              In Between Dreams   Jack Johnson  2005  \n",
      "4     Learn To Fly  There Is Nothing Left To Lose   Foo Fighters  1999  \n"
     ]
    }
   ],
   "source": [
    "# File paths\n",
    "triplets_file = r\"D:\\ONE DRIVE MAHI\\OneDrive\\Documents\\GitHub\\Music-Recommender-KNN\\song_dataset\\triplets_file.csv\"\n",
    "songs_metadata_file = r\"D:\\ONE DRIVE MAHI\\OneDrive\\Documents\\GitHub\\Music-Recommender-KNN\\song_dataset\\song_data.csv\"\n",
    "\n",
    "# Load the triplets file (with header in the first row)\n",
    "song_df_1 = pd.read_csv(triplets_file)\n",
    "song_df_1.columns = ['user_id', 'song_id', 'listen_count']\n",
    "\n",
    "# Load the songs metadata file\n",
    "song_df_2 = pd.read_csv(songs_metadata_file)\n",
    "\n",
    "song_df = pd.merge(song_df_1, song_df_2.drop_duplicates(['song_id']), on=\"song_id\", how=\"left\")\n",
    "\n",
    "print(song_df.head())\n"
   ]
  },
  {
   "cell_type": "code",
   "execution_count": 23,
   "metadata": {},
   "outputs": [
    {
     "name": "stdout",
     "output_type": "stream",
     "text": [
      "                               title  listen_count  percentage\n",
      "6836                   Sehr kosmisch          8277     0.41385\n",
      "8725                            Undo          7032     0.35160\n",
      "1964  Dog Days Are Over (Radio Edit)          6949     0.34745\n",
      "9496                  You're The One          6729     0.33645\n",
      "6498                         Revelry          6145     0.30725\n"
     ]
    }
   ],
   "source": [
    "#Checking listening percentage\n",
    "#We are checking how many users interacted with the song, not how many times they've individually listened to it.\n",
    "song_grouped=song_df.groupby(['title']).agg({'listen_count':'count'}).reset_index()\n",
    "#Here listen count now represents how many users have listened to that song\n",
    "grouped_sum=song_grouped['listen_count'].sum() #Summing up\n",
    "song_grouped['percentage']=song_grouped['listen_count'].div(grouped_sum)*100\n",
    "# Sort the DataFrame temporarily without modifying the original\n",
    "sorted_song_grouped = song_grouped.sort_values(['listen_count', 'title'], ascending=[False, True])\n",
    "\n",
    "# View the sorted result\n",
    "print(sorted_song_grouped.head())\n"
   ]
  },
  {
   "cell_type": "code",
   "execution_count": null,
   "metadata": {},
   "outputs": [
    {
     "data": {
      "text/plain": [
       "76353"
      ]
     },
     "execution_count": 30,
     "metadata": {},
     "output_type": "execute_result"
    }
   ],
   "source": [
    "#Return unique users and unique songs\n",
    "users = song_df['user_id'].unique()\n",
    "len(users)\n"
   ]
  },
  {
   "cell_type": "code",
   "execution_count": null,
   "metadata": {},
   "outputs": [
    {
     "data": {
      "text/plain": [
       "9567"
      ]
     },
     "execution_count": 31,
     "metadata": {},
     "output_type": "execute_result"
    }
   ],
   "source": [
    "songs = song_df['title'].unique()\n",
    "len(songs) "
   ]
  },
  {
   "cell_type": "code",
   "execution_count": 33,
   "metadata": {},
   "outputs": [],
   "source": [
    "train_data, test_data = train_test_split(song_df, test_size = 0.20, random_state=0)"
   ]
  },
  {
   "cell_type": "code",
   "execution_count": null,
   "metadata": {},
   "outputs": [],
   "source": [
    "#Define recommeneders module"
   ]
  },
  {
   "cell_type": "code",
   "execution_count": null,
   "metadata": {},
   "outputs": [],
   "source": [
    "pm = Recommenders.popularity_recommender_py()\n",
    "pm.create(train_data, 'user_id', 'song')\n",
    "#user the popularity model to make some prediction\n",
    "user_id = users[5]\n",
    "pm.recommend(user_id)"
   ]
  }
 ],
 "metadata": {
  "kernelspec": {
   "display_name": "Python 3",
   "language": "python",
   "name": "python3"
  },
  "language_info": {
   "codemirror_mode": {
    "name": "ipython",
    "version": 3
   },
   "file_extension": ".py",
   "mimetype": "text/x-python",
   "name": "python",
   "nbconvert_exporter": "python",
   "pygments_lexer": "ipython3",
   "version": "3.11.3"
  }
 },
 "nbformat": 4,
 "nbformat_minor": 2
}
