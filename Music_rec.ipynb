{
 "cells": [
  {
   "cell_type": "code",
   "execution_count": 1,
   "metadata": {},
   "outputs": [],
   "source": [
    "import pandas as pd \n",
    "import numpy as np\n",
    "from sklearn.model_selection import train_test_split\n",
    "import Recommenders as Recommenders"
   ]
  },
  {
   "cell_type": "code",
   "execution_count": 2,
   "metadata": {},
   "outputs": [
    {
     "name": "stdout",
     "output_type": "stream",
     "text": [
      "                                    user_id             song_id  listen_count  \\\n",
      "0  b80344d063b5ccb3212f76538f3d9e43d87dca9e  SOAKIMP12A8C130995             1   \n",
      "1  b80344d063b5ccb3212f76538f3d9e43d87dca9e  SOBBMDR12A8C13253B             2   \n",
      "2  b80344d063b5ccb3212f76538f3d9e43d87dca9e  SOBXHDL12A81C204C0             1   \n",
      "3  b80344d063b5ccb3212f76538f3d9e43d87dca9e  SOBYHAJ12A6701BF1D             1   \n",
      "4  b80344d063b5ccb3212f76538f3d9e43d87dca9e  SODACBL12A8C13C273             1   \n",
      "\n",
      "             title                        release    artist_name  year  \n",
      "0         The Cove             Thicker Than Water   Jack Johnson     0  \n",
      "1  Entre Dos Aguas            Flamenco Para Niños  Paco De Lucia  1976  \n",
      "2         Stronger                     Graduation     Kanye West  2007  \n",
      "3   Constellations              In Between Dreams   Jack Johnson  2005  \n",
      "4     Learn To Fly  There Is Nothing Left To Lose   Foo Fighters  1999  \n"
     ]
    }
   ],
   "source": [
    "# File paths\n",
    "triplets_file = r\"D:\\ONE DRIVE MAHI\\OneDrive\\Documents\\GitHub\\Music-Recommender-KNN\\song_dataset\\triplets_file.csv\"\n",
    "songs_metadata_file = r\"D:\\ONE DRIVE MAHI\\OneDrive\\Documents\\GitHub\\Music-Recommender-KNN\\song_dataset\\song_data.csv\"\n",
    "\n",
    "# Load the triplets file (with header in the first row)\n",
    "song_df_1 = pd.read_csv(triplets_file)\n",
    "song_df_1.columns = ['user_id', 'song_id', 'listen_count']\n",
    "\n",
    "# Load the songs metadata file\n",
    "song_df_2 = pd.read_csv(songs_metadata_file)\n",
    "\n",
    "song_df = pd.merge(song_df_1, song_df_2.drop_duplicates(['song_id']), on=\"song_id\", how=\"left\")\n",
    "\n",
    "print(song_df.head())\n"
   ]
  },
  {
   "cell_type": "code",
   "execution_count": 3,
   "metadata": {},
   "outputs": [
    {
     "name": "stdout",
     "output_type": "stream",
     "text": [
      "                               title  listen_count  percentage\n",
      "6836                   Sehr kosmisch          8277     0.41385\n",
      "8725                            Undo          7032     0.35160\n",
      "1964  Dog Days Are Over (Radio Edit)          6949     0.34745\n",
      "9496                  You're The One          6729     0.33645\n",
      "6498                         Revelry          6145     0.30725\n"
     ]
    }
   ],
   "source": [
    "#Checking listening percentage\n",
    "#We are checking how many users interacted with the song, not how many times they've individually listened to it.\n",
    "song_grouped=song_df.groupby(['title']).agg({'listen_count':'count'}).reset_index()\n",
    "#Here listen count now represents how many users have listened to that song\n",
    "grouped_sum=song_grouped['listen_count'].sum() #Summing up\n",
    "song_grouped['percentage']=song_grouped['listen_count'].div(grouped_sum)*100\n",
    "# Sort the DataFrame temporarily without modifying the original\n",
    "sorted_song_grouped = song_grouped.sort_values(['listen_count', 'title'], ascending=[False, True])\n",
    "\n",
    "# View the sorted result\n",
    "print(sorted_song_grouped.head())\n"
   ]
  },
  {
   "cell_type": "code",
   "execution_count": 4,
   "metadata": {},
   "outputs": [
    {
     "data": {
      "text/plain": [
       "76353"
      ]
     },
     "execution_count": 4,
     "metadata": {},
     "output_type": "execute_result"
    }
   ],
   "source": [
    "#Return unique users and unique songs\n",
    "users = song_df['user_id'].unique()\n",
    "len(users)\n"
   ]
  },
  {
   "cell_type": "code",
   "execution_count": 10,
   "metadata": {},
   "outputs": [
    {
     "data": {
      "text/plain": [
       "9567"
      ]
     },
     "execution_count": 10,
     "metadata": {},
     "output_type": "execute_result"
    }
   ],
   "source": [
    "songs = song_df['title'].unique()\n",
    "len(songs) "
   ]
  },
  {
   "cell_type": "code",
   "execution_count": 5,
   "metadata": {},
   "outputs": [],
   "source": [
    "train_data, test_data = train_test_split(song_df, test_size = 0.20, random_state=0)"
   ]
  },
  {
   "cell_type": "code",
   "execution_count": 24,
   "metadata": {},
   "outputs": [
    {
     "data": {
      "text/html": [
       "<div>\n",
       "<style scoped>\n",
       "    .dataframe tbody tr th:only-of-type {\n",
       "        vertical-align: middle;\n",
       "    }\n",
       "\n",
       "    .dataframe tbody tr th {\n",
       "        vertical-align: top;\n",
       "    }\n",
       "\n",
       "    .dataframe thead th {\n",
       "        text-align: right;\n",
       "    }\n",
       "</style>\n",
       "<table border=\"1\" class=\"dataframe\">\n",
       "  <thead>\n",
       "    <tr style=\"text-align: right;\">\n",
       "      <th></th>\n",
       "      <th>user_id</th>\n",
       "      <th>title</th>\n",
       "      <th>score</th>\n",
       "      <th>Rank</th>\n",
       "    </tr>\n",
       "  </thead>\n",
       "  <tbody>\n",
       "    <tr>\n",
       "      <th>6836</th>\n",
       "      <td>4bd88bfb25263a75bbdd467e74018f4ae570e5df</td>\n",
       "      <td>Sehr kosmisch</td>\n",
       "      <td>6630</td>\n",
       "      <td>1.0</td>\n",
       "    </tr>\n",
       "    <tr>\n",
       "      <th>8725</th>\n",
       "      <td>4bd88bfb25263a75bbdd467e74018f4ae570e5df</td>\n",
       "      <td>Undo</td>\n",
       "      <td>5639</td>\n",
       "      <td>2.0</td>\n",
       "    </tr>\n",
       "    <tr>\n",
       "      <th>1964</th>\n",
       "      <td>4bd88bfb25263a75bbdd467e74018f4ae570e5df</td>\n",
       "      <td>Dog Days Are Over (Radio Edit)</td>\n",
       "      <td>5592</td>\n",
       "      <td>3.0</td>\n",
       "    </tr>\n",
       "    <tr>\n",
       "      <th>9496</th>\n",
       "      <td>4bd88bfb25263a75bbdd467e74018f4ae570e5df</td>\n",
       "      <td>You're The One</td>\n",
       "      <td>5396</td>\n",
       "      <td>4.0</td>\n",
       "    </tr>\n",
       "    <tr>\n",
       "      <th>6498</th>\n",
       "      <td>4bd88bfb25263a75bbdd467e74018f4ae570e5df</td>\n",
       "      <td>Revelry</td>\n",
       "      <td>4938</td>\n",
       "      <td>5.0</td>\n",
       "    </tr>\n",
       "    <tr>\n",
       "      <th>6825</th>\n",
       "      <td>4bd88bfb25263a75bbdd467e74018f4ae570e5df</td>\n",
       "      <td>Secrets</td>\n",
       "      <td>4627</td>\n",
       "      <td>6.0</td>\n",
       "    </tr>\n",
       "    <tr>\n",
       "      <th>3437</th>\n",
       "      <td>4bd88bfb25263a75bbdd467e74018f4ae570e5df</td>\n",
       "      <td>Horn Concerto No. 4 in E flat K495: II. Romanc...</td>\n",
       "      <td>4368</td>\n",
       "      <td>7.0</td>\n",
       "    </tr>\n",
       "    <tr>\n",
       "      <th>2595</th>\n",
       "      <td>4bd88bfb25263a75bbdd467e74018f4ae570e5df</td>\n",
       "      <td>Fireflies</td>\n",
       "      <td>3835</td>\n",
       "      <td>8.0</td>\n",
       "    </tr>\n",
       "    <tr>\n",
       "      <th>3322</th>\n",
       "      <td>4bd88bfb25263a75bbdd467e74018f4ae570e5df</td>\n",
       "      <td>Hey_ Soul Sister</td>\n",
       "      <td>3819</td>\n",
       "      <td>9.0</td>\n",
       "    </tr>\n",
       "    <tr>\n",
       "      <th>8494</th>\n",
       "      <td>4bd88bfb25263a75bbdd467e74018f4ae570e5df</td>\n",
       "      <td>Tive Sim</td>\n",
       "      <td>3707</td>\n",
       "      <td>10.0</td>\n",
       "    </tr>\n",
       "  </tbody>\n",
       "</table>\n",
       "</div>"
      ],
      "text/plain": [
       "                                       user_id  \\\n",
       "6836  4bd88bfb25263a75bbdd467e74018f4ae570e5df   \n",
       "8725  4bd88bfb25263a75bbdd467e74018f4ae570e5df   \n",
       "1964  4bd88bfb25263a75bbdd467e74018f4ae570e5df   \n",
       "9496  4bd88bfb25263a75bbdd467e74018f4ae570e5df   \n",
       "6498  4bd88bfb25263a75bbdd467e74018f4ae570e5df   \n",
       "6825  4bd88bfb25263a75bbdd467e74018f4ae570e5df   \n",
       "3437  4bd88bfb25263a75bbdd467e74018f4ae570e5df   \n",
       "2595  4bd88bfb25263a75bbdd467e74018f4ae570e5df   \n",
       "3322  4bd88bfb25263a75bbdd467e74018f4ae570e5df   \n",
       "8494  4bd88bfb25263a75bbdd467e74018f4ae570e5df   \n",
       "\n",
       "                                                  title  score  Rank  \n",
       "6836                                      Sehr kosmisch   6630   1.0  \n",
       "8725                                               Undo   5639   2.0  \n",
       "1964                     Dog Days Are Over (Radio Edit)   5592   3.0  \n",
       "9496                                     You're The One   5396   4.0  \n",
       "6498                                            Revelry   4938   5.0  \n",
       "6825                                            Secrets   4627   6.0  \n",
       "3437  Horn Concerto No. 4 in E flat K495: II. Romanc...   4368   7.0  \n",
       "2595                                          Fireflies   3835   8.0  \n",
       "3322                                   Hey_ Soul Sister   3819   9.0  \n",
       "8494                                           Tive Sim   3707  10.0  "
      ]
     },
     "execution_count": 24,
     "metadata": {},
     "output_type": "execute_result"
    }
   ],
   "source": [
    "pm = Recommenders.popularity_recommender_py()\n",
    "pm.create(train_data, 'user_id', 'title')\n",
    "#user the popularity model to make some prediction\n",
    "user_id = users[5]\n",
    "pm.recommend(user_id)"
   ]
  },
  {
   "cell_type": "code",
   "execution_count": 17,
   "metadata": {},
   "outputs": [],
   "source": [
    "is_model=Recommenders.item_similarity_recommender_py()\n",
    "is_model.create(train_data, 'user_id', 'title')"
   ]
  },
  {
   "cell_type": "code",
   "execution_count": 25,
   "metadata": {},
   "outputs": [
    {
     "name": "stdout",
     "output_type": "stream",
     "text": [
      "------------------------------------------------------------------------------------\n",
      "Training data songs for the user userid: 4bd88bfb25263a75bbdd467e74018f4ae570e5df:\n",
      "------------------------------------------------------------------------------------\n",
      "The Real Slim Shady\n",
      "Forgive Me\n",
      "Say My Name\n",
      "Speechless\n",
      "Ghosts 'n' Stuff (Original Instrumental Mix)\n",
      "Missing You\n",
      "Without Me\n",
      "Somebody To Love\n",
      "Just Lose It\n",
      "----------------------------------------------------------------------\n",
      "Recommendation process going on:\n",
      "----------------------------------------------------------------------\n"
     ]
    }
   ],
   "source": [
    "#Print the songs for the user in training data\n",
    "user_id = users[5]\n",
    "user_items = is_model.get_user_items(user_id)\n",
    "#\n",
    "print(\"------------------------------------------------------------------------------------\")\n",
    "print(\"Training data songs for the user userid: %s:\" % user_id)\n",
    "print(\"------------------------------------------------------------------------------------\")\n",
    "\n",
    "for user_item in user_items:\n",
    "    print(user_item)\n",
    "\n",
    "print(\"----------------------------------------------------------------------\")\n",
    "print(\"Recommendation process going on:\")\n",
    "print(\"----------------------------------------------------------------------\")\n"
   ]
  },
  {
   "cell_type": "code",
   "execution_count": 26,
   "metadata": {},
   "outputs": [
    {
     "name": "stdout",
     "output_type": "stream",
     "text": [
      "No. of unique songs for the user: 9\n",
      "no. of unique songs in the training set: 9567\n",
      "Non zero values in cooccurence_matrix :60155\n"
     ]
    },
    {
     "data": {
      "text/html": [
       "<div>\n",
       "<style scoped>\n",
       "    .dataframe tbody tr th:only-of-type {\n",
       "        vertical-align: middle;\n",
       "    }\n",
       "\n",
       "    .dataframe tbody tr th {\n",
       "        vertical-align: top;\n",
       "    }\n",
       "\n",
       "    .dataframe thead th {\n",
       "        text-align: right;\n",
       "    }\n",
       "</style>\n",
       "<table border=\"1\" class=\"dataframe\">\n",
       "  <thead>\n",
       "    <tr style=\"text-align: right;\">\n",
       "      <th></th>\n",
       "      <th>user_id</th>\n",
       "      <th>song</th>\n",
       "      <th>score</th>\n",
       "      <th>rank</th>\n",
       "    </tr>\n",
       "  </thead>\n",
       "  <tbody>\n",
       "    <tr>\n",
       "      <th>0</th>\n",
       "      <td>4bd88bfb25263a75bbdd467e74018f4ae570e5df</td>\n",
       "      <td>Mockingbird</td>\n",
       "      <td>0.057687</td>\n",
       "      <td>1</td>\n",
       "    </tr>\n",
       "    <tr>\n",
       "      <th>1</th>\n",
       "      <td>4bd88bfb25263a75bbdd467e74018f4ae570e5df</td>\n",
       "      <td>My Name Is</td>\n",
       "      <td>0.056503</td>\n",
       "      <td>2</td>\n",
       "    </tr>\n",
       "    <tr>\n",
       "      <th>2</th>\n",
       "      <td>4bd88bfb25263a75bbdd467e74018f4ae570e5df</td>\n",
       "      <td>U Smile</td>\n",
       "      <td>0.044817</td>\n",
       "      <td>3</td>\n",
       "    </tr>\n",
       "    <tr>\n",
       "      <th>3</th>\n",
       "      <td>4bd88bfb25263a75bbdd467e74018f4ae570e5df</td>\n",
       "      <td>Terre Promise</td>\n",
       "      <td>0.044756</td>\n",
       "      <td>4</td>\n",
       "    </tr>\n",
       "    <tr>\n",
       "      <th>4</th>\n",
       "      <td>4bd88bfb25263a75bbdd467e74018f4ae570e5df</td>\n",
       "      <td>Eenie Meenie</td>\n",
       "      <td>0.043378</td>\n",
       "      <td>5</td>\n",
       "    </tr>\n",
       "    <tr>\n",
       "      <th>5</th>\n",
       "      <td>4bd88bfb25263a75bbdd467e74018f4ae570e5df</td>\n",
       "      <td>Superman</td>\n",
       "      <td>0.042695</td>\n",
       "      <td>6</td>\n",
       "    </tr>\n",
       "    <tr>\n",
       "      <th>6</th>\n",
       "      <td>4bd88bfb25263a75bbdd467e74018f4ae570e5df</td>\n",
       "      <td>Hailie's Song</td>\n",
       "      <td>0.041082</td>\n",
       "      <td>7</td>\n",
       "    </tr>\n",
       "    <tr>\n",
       "      <th>7</th>\n",
       "      <td>4bd88bfb25263a75bbdd467e74018f4ae570e5df</td>\n",
       "      <td>Drop The World</td>\n",
       "      <td>0.040930</td>\n",
       "      <td>8</td>\n",
       "    </tr>\n",
       "    <tr>\n",
       "      <th>8</th>\n",
       "      <td>4bd88bfb25263a75bbdd467e74018f4ae570e5df</td>\n",
       "      <td>Love Me</td>\n",
       "      <td>0.040303</td>\n",
       "      <td>9</td>\n",
       "    </tr>\n",
       "    <tr>\n",
       "      <th>9</th>\n",
       "      <td>4bd88bfb25263a75bbdd467e74018f4ae570e5df</td>\n",
       "      <td>OMG</td>\n",
       "      <td>0.040012</td>\n",
       "      <td>10</td>\n",
       "    </tr>\n",
       "  </tbody>\n",
       "</table>\n",
       "</div>"
      ],
      "text/plain": [
       "                                    user_id            song     score  rank\n",
       "0  4bd88bfb25263a75bbdd467e74018f4ae570e5df     Mockingbird  0.057687     1\n",
       "1  4bd88bfb25263a75bbdd467e74018f4ae570e5df      My Name Is  0.056503     2\n",
       "2  4bd88bfb25263a75bbdd467e74018f4ae570e5df         U Smile  0.044817     3\n",
       "3  4bd88bfb25263a75bbdd467e74018f4ae570e5df   Terre Promise  0.044756     4\n",
       "4  4bd88bfb25263a75bbdd467e74018f4ae570e5df    Eenie Meenie  0.043378     5\n",
       "5  4bd88bfb25263a75bbdd467e74018f4ae570e5df        Superman  0.042695     6\n",
       "6  4bd88bfb25263a75bbdd467e74018f4ae570e5df   Hailie's Song  0.041082     7\n",
       "7  4bd88bfb25263a75bbdd467e74018f4ae570e5df  Drop The World  0.040930     8\n",
       "8  4bd88bfb25263a75bbdd467e74018f4ae570e5df         Love Me  0.040303     9\n",
       "9  4bd88bfb25263a75bbdd467e74018f4ae570e5df             OMG  0.040012    10"
      ]
     },
     "execution_count": 26,
     "metadata": {},
     "output_type": "execute_result"
    }
   ],
   "source": [
    "#Recommend songs for the user using personalized model\n",
    "is_model.recommend(user_id)"
   ]
  },
  {
   "cell_type": "code",
   "execution_count": 7,
   "metadata": {},
   "outputs": [],
   "source": [
    "from scipy.sparse.linalg import svds\n",
    "from scipy.sparse import csc_matrix\n",
    "import numpy as np\n",
    "import math as mt"
   ]
  },
  {
   "cell_type": "code",
   "execution_count": 10,
   "metadata": {},
   "outputs": [],
   "source": [
    "#Trying SVD\n",
    "MAX_PID=4 #Number of items\n",
    "MAX_UID=5 #Number of users\n",
    "\n",
    "def computeSVD(urm, K):     \n",
    "    # Use svds for truncated SVD on sparse matrix\n",
    "    U, s, Vt = svds(urm, k=K)\n",
    "    \n",
    "    # Create the diagonal matrix S from the singular values\n",
    "    dim = (len(s), len(s))\n",
    "    S = np.zeros(dim, dtype=np.float32)\n",
    "    for i in range(len(s)):\n",
    "        S[i, i] = mt.sqrt(s[i])\n",
    "    \n",
    "    # Convert to sparse matrix format\n",
    "    U = csc_matrix(U, dtype=np.float32)  # Do not transpose\n",
    "    S = csc_matrix(S, dtype=np.float32)\n",
    "    Vt = csc_matrix(Vt, dtype=np.float32)\n",
    "    \n",
    "    return U, S, Vt\n",
    "\n"
   ]
  },
  {
   "cell_type": "code",
   "execution_count": 12,
   "metadata": {},
   "outputs": [
    {
     "name": "stdout",
     "output_type": "stream",
     "text": [
      "User id for whom recommendations are needed: 4\n",
      "Predicted ratings:\n",
      "[0 3 2 1]\n"
     ]
    }
   ],
   "source": [
    "#Compute estimated rating for the test user\n",
    "def computeEstimatedRatings(urm, U, S, Vt, uTest, K, test):\n",
    "    rightTerm = S*Vt\n",
    "    estimatedRatings = np.zeros(shape=(MAX_UID, MAX_PID), dtype=np.float16)\n",
    "    for userTest in uTest:\n",
    "        prod = U[userTest, :]*rightTerm\n",
    "        #we convert the vector to dense format in order to get the     #indices\n",
    "        #of the movies with the best estimated ratings \n",
    "        estimatedRatings[userTest, :] = prod.todense()\n",
    "        recom = (-estimatedRatings[userTest, :]).argsort()[:250]\n",
    "    return recom\n",
    "\n",
    "#Used in SVD calculation (number of latent factors)\n",
    "K=2\n",
    "#Initialize a sample user rating matrix\n",
    "urm = np.array([[3, 1, 2, 3],[4, 3, 4, 3],[3, 2, 1, 5], [1, 6, 5, 2], [5, 0,0 , 0]])\n",
    "urm = csc_matrix(urm, dtype=np.float32)\n",
    "#Compute SVD of the input user ratings matrix\n",
    "U, S, Vt = computeSVD(urm, K)\n",
    "#Test user set as user_id 4 with ratings [0, 0, 5, 0]\n",
    "uTest = [4]\n",
    "print(\"User id for whom recommendations are needed: %d\" % uTest[0])\n",
    "#Get estimated rating for test user\n",
    "print(\"Predicted ratings:\")\n",
    "uTest_recommended_items = computeEstimatedRatings(urm, U, S, Vt, uTest, K, True)\n",
    "print(uTest_recommended_items)\n"
   ]
  }
 ],
 "metadata": {
  "kernelspec": {
   "display_name": "Python 3",
   "language": "python",
   "name": "python3"
  },
  "language_info": {
   "codemirror_mode": {
    "name": "ipython",
    "version": 3
   },
   "file_extension": ".py",
   "mimetype": "text/x-python",
   "name": "python",
   "nbconvert_exporter": "python",
   "pygments_lexer": "ipython3",
   "version": "3.11.3"
  }
 },
 "nbformat": 4,
 "nbformat_minor": 2
}
