{
 "cells": [
  {
   "cell_type": "code",
   "execution_count": 36,
   "metadata": {},
   "outputs": [
    {
     "ename": "ModuleNotFoundError",
     "evalue": "No module named 'Recommenders'",
     "output_type": "error",
     "traceback": [
      "\u001b[1;31m---------------------------------------------------------------------------\u001b[0m",
      "\u001b[1;31mModuleNotFoundError\u001b[0m                       Traceback (most recent call last)",
      "Cell \u001b[1;32mIn[36], line 3\u001b[0m\n\u001b[0;32m      1\u001b[0m \u001b[38;5;28;01mimport\u001b[39;00m \u001b[38;5;21;01mpandas\u001b[39;00m \u001b[38;5;28;01mas\u001b[39;00m \u001b[38;5;21;01mpd\u001b[39;00m \n\u001b[0;32m      2\u001b[0m \u001b[38;5;28;01mfrom\u001b[39;00m \u001b[38;5;21;01msklearn\u001b[39;00m\u001b[38;5;21;01m.\u001b[39;00m\u001b[38;5;21;01mmodel_selection\u001b[39;00m \u001b[38;5;28;01mimport\u001b[39;00m train_test_split\n\u001b[1;32m----> 3\u001b[0m \u001b[38;5;28;01mimport\u001b[39;00m \u001b[38;5;21;01mRecommenders\u001b[39;00m \u001b[38;5;28;01mas\u001b[39;00m \u001b[38;5;21;01mRecommenders\u001b[39;00m\n",
      "\u001b[1;31mModuleNotFoundError\u001b[0m: No module named 'Recommenders'"
     ]
    }
   ],
   "source": [
    "import pandas as pd \n",
    "from sklearn.cross_validation import train_test_split\n",
    "import Recommenders as Recommenders"
   ]
  },
  {
   "cell_type": "code",
   "execution_count": 12,
   "metadata": {},
   "outputs": [
    {
     "name": "stdout",
     "output_type": "stream",
     "text": [
      "                                    user_id             song_id  listen_count  \\\n",
      "0  b80344d063b5ccb3212f76538f3d9e43d87dca9e  SOAKIMP12A8C130995             1   \n",
      "1  b80344d063b5ccb3212f76538f3d9e43d87dca9e  SOBBMDR12A8C13253B             2   \n",
      "2  b80344d063b5ccb3212f76538f3d9e43d87dca9e  SOBXHDL12A81C204C0             1   \n",
      "3  b80344d063b5ccb3212f76538f3d9e43d87dca9e  SOBYHAJ12A6701BF1D             1   \n",
      "4  b80344d063b5ccb3212f76538f3d9e43d87dca9e  SODACBL12A8C13C273             1   \n",
      "\n",
      "             title                        release    artist_name  year  \n",
      "0         The Cove             Thicker Than Water   Jack Johnson     0  \n",
      "1  Entre Dos Aguas            Flamenco Para Niños  Paco De Lucia  1976  \n",
      "2         Stronger                     Graduation     Kanye West  2007  \n",
      "3   Constellations              In Between Dreams   Jack Johnson  2005  \n",
      "4     Learn To Fly  There Is Nothing Left To Lose   Foo Fighters  1999  \n"
     ]
    }
   ],
   "source": [
    "# File paths\n",
    "triplets_file = r\"D:\\ONE DRIVE MAHI\\OneDrive\\Documents\\GitHub\\Music-Recommender-KNN\\song_dataset\\triplets_file.csv\"\n",
    "songs_metadata_file = r\"D:\\ONE DRIVE MAHI\\OneDrive\\Documents\\GitHub\\Music-Recommender-KNN\\song_dataset\\song_data.csv\"\n",
    "\n",
    "# Load the triplets file (with header in the first row)\n",
    "song_df_1 = pd.read_csv(triplets_file)\n",
    "song_df_1.columns = ['user_id', 'song_id', 'listen_count']\n",
    "\n",
    "# Load the songs metadata file\n",
    "song_df_2 = pd.read_csv(songs_metadata_file)\n",
    "\n",
    "song_df = pd.merge(song_df_1, song_df_2.drop_duplicates(['song_id']), on=\"song_id\", how=\"left\")\n",
    "\n",
    "print(song_df.head())\n"
   ]
  },
  {
   "cell_type": "code",
   "execution_count": 23,
   "metadata": {},
   "outputs": [
    {
     "name": "stdout",
     "output_type": "stream",
     "text": [
      "                               title  listen_count  percentage\n",
      "6836                   Sehr kosmisch          8277     0.41385\n",
      "8725                            Undo          7032     0.35160\n",
      "1964  Dog Days Are Over (Radio Edit)          6949     0.34745\n",
      "9496                  You're The One          6729     0.33645\n",
      "6498                         Revelry          6145     0.30725\n"
     ]
    }
   ],
   "source": [
    "#Checking listening percentage\n",
    "#We are checking how many users interacted with the song, not how many times they've individually listened to it.\n",
    "song_grouped=song_df.groupby(['title']).agg({'listen_count':'count'}).reset_index()\n",
    "#Here listen count now represents how many users have listened to that song\n",
    "grouped_sum=song_grouped['listen_count'].sum() #Summing up\n",
    "song_grouped['percentage']=song_grouped['listen_count'].div(grouped_sum)*100\n",
    "# Sort the DataFrame temporarily without modifying the original\n",
    "sorted_song_grouped = song_grouped.sort_values(['listen_count', 'title'], ascending=[False, True])\n",
    "\n",
    "# View the sorted result\n",
    "print(sorted_song_grouped.head())\n"
   ]
  },
  {
   "cell_type": "code",
   "execution_count": null,
   "metadata": {},
   "outputs": [
    {
     "data": {
      "text/plain": [
       "76353"
      ]
     },
     "execution_count": 30,
     "metadata": {},
     "output_type": "execute_result"
    }
   ],
   "source": [
    "#Return unique users and unique songs\n",
    "users = song_df['user_id'].unique()\n",
    "len(users)\n"
   ]
  },
  {
   "cell_type": "code",
   "execution_count": null,
   "metadata": {},
   "outputs": [
    {
     "data": {
      "text/plain": [
       "9567"
      ]
     },
     "execution_count": 31,
     "metadata": {},
     "output_type": "execute_result"
    }
   ],
   "source": [
    "songs = song_df['title'].unique()\n",
    "len(songs) "
   ]
  },
  {
   "cell_type": "code",
   "execution_count": 33,
   "metadata": {},
   "outputs": [],
   "source": [
    "train_data, test_data = train_test_split(song_df, test_size = 0.20, random_state=0)"
   ]
  },
  {
   "cell_type": "code",
   "execution_count": 34,
   "metadata": {},
   "outputs": [],
   "source": [
    "#Define recommeneders module\n",
    "class popularity_recommender_py():\n",
    "    def __init__(self):\n",
    "        self.train_data=None\n",
    "        self.user_id=None\n",
    "        self.item_id=None\n",
    "        self.popularity_recommendations=None\n",
    "    \n",
    "    def create(self, train_data, user_id, item_id):\n",
    "        self.train_data=train_data\n",
    "        self.user_id=user_id\n",
    "        self.item_id=item_id\n",
    "        #Count of user_ids for each unique song as rec score\n",
    "        train_data_grouped=train_data.groupby([self.item_id]).agg({self.user_id:'count'}).reset_index()\n",
    "        #Renaming Column user_id to score\n",
    "        train_data_grouped.rename(columns = {'user_id': 'score'}, inplace=True)\n",
    "        train_data_sort=train_data_grouped.sort_values(['score', self.item_id], ascending=[0, 1])\n",
    "        train_data_sort['Rank'] = train_data_sort['score'].rank(ascending=0, method='first')\n",
    "        self.popularity_recommendations=train_data_sort.head(10) #Gets the top ten recommendations\n",
    "\n",
    "    def recommend(self, user_id):\n",
    "        user_recommendations = self.popularity_recommendations\n",
    "        user_recommendations['user_id'] = user_id\n",
    "        #Reordering columns for convenience\n",
    "        cols = user_recommendations.columns.tolist()        \n",
    "        cols = cols[-1:] + cols[:-1]        \n",
    "        user_recommendations = user_recommendations[cols]\n",
    "        return user_recommendations\n",
    "\n"
   ]
  },
  {
   "cell_type": "code",
   "execution_count": 38,
   "metadata": {},
   "outputs": [
    {
     "data": {
      "text/html": [
       "<div>\n",
       "<style scoped>\n",
       "    .dataframe tbody tr th:only-of-type {\n",
       "        vertical-align: middle;\n",
       "    }\n",
       "\n",
       "    .dataframe tbody tr th {\n",
       "        vertical-align: top;\n",
       "    }\n",
       "\n",
       "    .dataframe thead th {\n",
       "        text-align: right;\n",
       "    }\n",
       "</style>\n",
       "<table border=\"1\" class=\"dataframe\">\n",
       "  <thead>\n",
       "    <tr style=\"text-align: right;\">\n",
       "      <th></th>\n",
       "      <th>user_id</th>\n",
       "      <th>title</th>\n",
       "      <th>score</th>\n",
       "      <th>Rank</th>\n",
       "    </tr>\n",
       "  </thead>\n",
       "  <tbody>\n",
       "    <tr>\n",
       "      <th>6836</th>\n",
       "      <td>4bd88bfb25263a75bbdd467e74018f4ae570e5df</td>\n",
       "      <td>Sehr kosmisch</td>\n",
       "      <td>6630</td>\n",
       "      <td>1.0</td>\n",
       "    </tr>\n",
       "    <tr>\n",
       "      <th>8725</th>\n",
       "      <td>4bd88bfb25263a75bbdd467e74018f4ae570e5df</td>\n",
       "      <td>Undo</td>\n",
       "      <td>5639</td>\n",
       "      <td>2.0</td>\n",
       "    </tr>\n",
       "    <tr>\n",
       "      <th>1964</th>\n",
       "      <td>4bd88bfb25263a75bbdd467e74018f4ae570e5df</td>\n",
       "      <td>Dog Days Are Over (Radio Edit)</td>\n",
       "      <td>5592</td>\n",
       "      <td>3.0</td>\n",
       "    </tr>\n",
       "    <tr>\n",
       "      <th>9496</th>\n",
       "      <td>4bd88bfb25263a75bbdd467e74018f4ae570e5df</td>\n",
       "      <td>You're The One</td>\n",
       "      <td>5396</td>\n",
       "      <td>4.0</td>\n",
       "    </tr>\n",
       "    <tr>\n",
       "      <th>6498</th>\n",
       "      <td>4bd88bfb25263a75bbdd467e74018f4ae570e5df</td>\n",
       "      <td>Revelry</td>\n",
       "      <td>4938</td>\n",
       "      <td>5.0</td>\n",
       "    </tr>\n",
       "    <tr>\n",
       "      <th>6825</th>\n",
       "      <td>4bd88bfb25263a75bbdd467e74018f4ae570e5df</td>\n",
       "      <td>Secrets</td>\n",
       "      <td>4627</td>\n",
       "      <td>6.0</td>\n",
       "    </tr>\n",
       "    <tr>\n",
       "      <th>3437</th>\n",
       "      <td>4bd88bfb25263a75bbdd467e74018f4ae570e5df</td>\n",
       "      <td>Horn Concerto No. 4 in E flat K495: II. Romanc...</td>\n",
       "      <td>4368</td>\n",
       "      <td>7.0</td>\n",
       "    </tr>\n",
       "    <tr>\n",
       "      <th>2595</th>\n",
       "      <td>4bd88bfb25263a75bbdd467e74018f4ae570e5df</td>\n",
       "      <td>Fireflies</td>\n",
       "      <td>3835</td>\n",
       "      <td>8.0</td>\n",
       "    </tr>\n",
       "    <tr>\n",
       "      <th>3322</th>\n",
       "      <td>4bd88bfb25263a75bbdd467e74018f4ae570e5df</td>\n",
       "      <td>Hey_ Soul Sister</td>\n",
       "      <td>3819</td>\n",
       "      <td>9.0</td>\n",
       "    </tr>\n",
       "    <tr>\n",
       "      <th>8494</th>\n",
       "      <td>4bd88bfb25263a75bbdd467e74018f4ae570e5df</td>\n",
       "      <td>Tive Sim</td>\n",
       "      <td>3707</td>\n",
       "      <td>10.0</td>\n",
       "    </tr>\n",
       "  </tbody>\n",
       "</table>\n",
       "</div>"
      ],
      "text/plain": [
       "                                       user_id  \\\n",
       "6836  4bd88bfb25263a75bbdd467e74018f4ae570e5df   \n",
       "8725  4bd88bfb25263a75bbdd467e74018f4ae570e5df   \n",
       "1964  4bd88bfb25263a75bbdd467e74018f4ae570e5df   \n",
       "9496  4bd88bfb25263a75bbdd467e74018f4ae570e5df   \n",
       "6498  4bd88bfb25263a75bbdd467e74018f4ae570e5df   \n",
       "6825  4bd88bfb25263a75bbdd467e74018f4ae570e5df   \n",
       "3437  4bd88bfb25263a75bbdd467e74018f4ae570e5df   \n",
       "2595  4bd88bfb25263a75bbdd467e74018f4ae570e5df   \n",
       "3322  4bd88bfb25263a75bbdd467e74018f4ae570e5df   \n",
       "8494  4bd88bfb25263a75bbdd467e74018f4ae570e5df   \n",
       "\n",
       "                                                  title  score  Rank  \n",
       "6836                                      Sehr kosmisch   6630   1.0  \n",
       "8725                                               Undo   5639   2.0  \n",
       "1964                     Dog Days Are Over (Radio Edit)   5592   3.0  \n",
       "9496                                     You're The One   5396   4.0  \n",
       "6498                                            Revelry   4938   5.0  \n",
       "6825                                            Secrets   4627   6.0  \n",
       "3437  Horn Concerto No. 4 in E flat K495: II. Romanc...   4368   7.0  \n",
       "2595                                          Fireflies   3835   8.0  \n",
       "3322                                   Hey_ Soul Sister   3819   9.0  \n",
       "8494                                           Tive Sim   3707  10.0  "
      ]
     },
     "execution_count": 38,
     "metadata": {},
     "output_type": "execute_result"
    }
   ],
   "source": [
    "pm = popularity_recommender_py()\n",
    "pm.create(train_data, 'user_id', 'title')\n",
    "#user the popularity model to make some prediction\n",
    "user_id = users[5]\n",
    "pm.recommend(user_id)"
   ]
  }
 ],
 "metadata": {
  "kernelspec": {
   "display_name": "Python 3",
   "language": "python",
   "name": "python3"
  },
  "language_info": {
   "codemirror_mode": {
    "name": "ipython",
    "version": 3
   },
   "file_extension": ".py",
   "mimetype": "text/x-python",
   "name": "python",
   "nbconvert_exporter": "python",
   "pygments_lexer": "ipython3",
   "version": "3.11.3"
  }
 },
 "nbformat": 4,
 "nbformat_minor": 2
}
